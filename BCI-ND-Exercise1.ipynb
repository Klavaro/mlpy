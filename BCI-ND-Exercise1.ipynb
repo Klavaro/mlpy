{
 "cells": [
  {
   "cell_type": "markdown",
   "metadata": {},
   "source": [
    "# Exercise Sheet 1: Neurons"
   ]
  },
  {
   "cell_type": "code",
   "execution_count": 111,
   "metadata": {},
   "outputs": [],
   "source": [
    "import numpy as np\n",
    "import math\n",
    "from scipy import constants\n",
    "from matplotlib import pyplot as plt"
   ]
  },
  {
   "cell_type": "markdown",
   "metadata": {},
   "source": [
    "## Task 1: The logistic function (1 point - programming)\n",
    "Write a function \"logistic(h,a=1)\" resembling the logistic function and a second function \"signtrafunc\" the binary logistic tranfer function equivalent as a function of the sign of the input. Also write a function \"dlogistic(h,a=1)\" resembling the derivative of the logistic function. Similarly, write a \"gaussRBF(h,a=1)\" resembling the gaussian Radial Basis Function and \"dgaussRBF(h,a=1)\" its derivative.\n",
    "\n",
    "Plot each of them in the range of -10 to 10 together with their derivative (except for the binary function) with plt.plot().\n",
    "\n",
    "For defining the sign-based transfer function the inline definition of functions using the syntax trafunc=lambda x: f(x) might be handy, please write the logistic function, however, as a classical function definition. The a=1 in the function definition sets the default to a=1 so the function needs only 1 argument by default."
   ]
  },
  {
   "cell_type": "code",
   "execution_count": 2,
   "metadata": {},
   "outputs": [
    {
     "data": {
      "text/plain": [
       "[<matplotlib.lines.Line2D at 0x1ac4ff6fd30>]"
      ]
     },
     "execution_count": 2,
     "metadata": {},
     "output_type": "execute_result"
    },
    {
     "data": {
      "image/png": "[encoded data removed]",
      "text/plain": [
       "<Figure size 432x288 with 2 Axes>"
      ]
     },
     "metadata": {
      "needs_background": "light"
     },
     "output_type": "display_data"
    }
   ],
   "source": [
    "\n",
    "def logistic(h,a=1):\n",
    "    return (1/(a + np.exp(-h)))\n",
    "\n",
    "signtrafunc=lambda x: True if x>= 0 else False\n",
    "    \n",
    "def dlogistic(h, a=1):\n",
    "    return logistic(h)*(1-logistic(h))\n",
    "\n",
    "def gaussRBF(h,a=1):\n",
    "    return np.exp(-(a*h)**2)\n",
    "\n",
    "def dgaussRBF(h,a=1):\n",
    "    return gaussRBF(h)*(1-gaussRBF(h))\n",
    "\n",
    "h = np.arange(-10,10)\n",
    "\n",
    "ax1,ax2 = plt.subplots(2)\n",
    "plt.plot(h, logistic(h),'-o',color = 'red')\n",
    "plt.plot(h, dlogistic(h), '-o', color = 'blue')\n",
    "plt.plot(h, gaussRBF(h), '-o', color = 'green')\n",
    "plt.plot(h, dgaussRBF(h), '-o', color = 'yellow')\n"
   ]
  },
  {
   "cell_type": "markdown",
   "metadata": {},
   "source": [
    "## Task 2: Building an artificial neuron  (2 points - programming)\n",
    "Define a class \"neuron\" resembling a simple perceptron. See https://docs.python.org/3/tutorial/classes.html for help on classes.\n",
    "\n",
    "It should have the attributes \"neuron.w\" for the weights, \"neuron.b\" for the bias, the methods \"neuron.trafunc(self,x)\" for the transfer function, \"neuron.dtrafunc(self,h)\"  for the derivative of the transfer function and the met#hod \"neuron.out(self,h)\" to calculate the output for input *x* and *h*, respectively. \n",
    "\n",
    "Build a constructor method \"\\__init\\__(self,...)\", where self refers to the object itself, which assigns the weight vector *x*, the bias *b* , the transfer function \"trafunc\" and it's derivative \"dtrafunc\" to the neuron."
   ]
  },
  {
   "cell_type": "code",
   "execution_count": 3,
   "metadata": {},
   "outputs": [],
   "source": [
    "class neuron:\n",
    "    \n",
    "    def __init__(self):\n",
    "        return \n",
    "    def out(self, x):\n",
    "        return \n",
    "            "
   ]
  },
  {
   "cell_type": "markdown",
   "metadata": {},
   "source": [
    "## Task 3: Use an artificial neuron (3 points - thinking and programming)\n",
    "Use instances of the neuron class above to build the equivalents to logical \"or\" and \"and\"-functions and test them for 2-dimensional input vectors *x* resembling all possibilities of combinations ([0,0] [1,0], [0,1], [1,1]) by setting the weights and bias manually.\n",
    "\n",
    "First, use the sign-based transfer function to solve the task with exact solution and then apply the same weights w and bias b on a neuron with the logistic and gaussian RBF transfer functions.\n",
    "\n",
    "What's the difference?\n",
    "\n",
    "*Hint: if you haven't succeeded with Task 2, you can solve Task 3 analytically and write down the needed weights and results.*"
   ]
  },
  {
   "cell_type": "code",
   "execution_count": null,
   "metadata": {},
   "outputs": [],
   "source": []
  },
  {
   "cell_type": "markdown",
   "metadata": {},
   "source": [
    "## Task 4: The current density (4 points - analytic derivation)\n",
    "Analytically derive the current density $\\vec{J}=-\\sigma\\nabla\\phi$ of a dipole field at origin step-by-step from the potential equation $\\phi(\\vec{r})=\\frac{1}{4\\pi\\epsilon_0}\\frac{\\vec{p}\\cdot\\vec{r}}{\\left|\\vec{r}\\right|^3}$ in Cartesian coordinates.\n",
    "\n",
    "To this extent you will need to build the gradient $\\nabla=\\left(\n",
    "\\begin{array}{c}\n",
    "\t\\frac{\\delta}{\\delta x}\\\\\n",
    "\t\\frac{\\delta}{\\delta y}\\\\\n",
    "\t\\frac{\\delta}{\\delta z}\n",
    "\\end{array}\n",
    "\\right)$!\n",
    "\n",
    "You can take the dipolar moment $\\vec{p}$ to be a constant vector $\\vec{p}=\\left(\n",
    "\\begin{array}{c}\n",
    "\tp_x\\\\\n",
    "\tp_y\\\\\n",
    "\tp_z\n",
    "\\end{array}\n",
    "\\right)$. \n",
    "\n",
    "The vector $\\vec{r}=\\left(\n",
    "\\begin{array}{c}\n",
    "\tx\\\\\n",
    "\ty\\\\\n",
    "\tz\n",
    "\\end{array}\n",
    "\\right)$ is the coordinates in cartesian coordinates and  the norm is the euclidean norm $\\left|\\vec{r}\\right|=\\sqrt{x^2+y^2+z^2}$.\n",
    "\n",
    "$\\sigma$ is the specific conductivity of the material (a constant).\n",
    "\n",
    "*Hint: You can hand in the solution in your format of choice: Write direclty below (Markdown takes latex within $$, jsut double-click on the cell below), Pdf from Latex or Word, scan or photo of a hand-written derivation, etc....*"
   ]
  },
  {
   "cell_type": "markdown",
   "metadata": {},
   "source": [
    "### Solution:\n",
    "$\\vec{J}=-\\sigma \\nabla \\phi=$"
   ]
  },
  {
   "cell_type": "markdown",
   "metadata": {},
   "source": [
    "## Task 5: Electrical Field strength & potential of a dipole (5 points - programming)\n",
    "Write a python function resembling the electrical field potential $\\phi(\\vec{r},\\vec{r}_0)$ and another one for the field strength $\\vec{E}$ of a dipole in infinite charge free space at point $\\vec{r}_0$ in Cartesian coordinates. The function should take the position of the observed point $\\vec{r}$, the position of the dipole $\\vec{r}_0$ and the dipole moment $\\vec{p}$ as inputs and return the scalar potential. $\\vec{r}_0$ should be set to the origin by default. \n",
    "\n",
    "$\\phi(\\vec{r})=\\frac{1}{4\\pi\\epsilon_0}\\frac{\\vec{p}\\cdot\\left(\\vec{r}-\\vec{r}_0\\right)}{\\left|\\vec{r}-\\vec{r}_0\\right|^3}$\n",
    "\n",
    "$\\vec{E}=\\frac{1}{4 \\pi \\epsilon_0 } \\left(3 \\frac{\\left(\\vec{r}-\\vec{r}_0\\right) \\cdot \\vec{p}}{\\left|\\vec{r}-\\vec{r}_0\\right|^5} \\cdot \\left(\\vec{r}-\\vec{r}_0\\right)-\\frac{\\vec{p}}{\\left|\\vec{r}-\\vec{r}_0\\right|^3}\\right)$\n",
    "\n",
    "Make a plot of the two variables in two dimensions from -10 to 10 for both axes in the x/y-plane for a dipole at origin with dipole moment $\\vec{p}=[0,1]$.\n",
    "Plot the potential as decibel (dB) values using the matlpotlib function plt.contour/contourf for plotting and the field strength in it's original scale using the function plt.streamplot. Draw both plots into the same figure. The arguments to the plot function call for $\\vec{E}$- and $\\phi$- values need to have the shape corresponding to the XX and YY variables from np.meshgrid (see below).\n",
    "\n",
    "Hints: \n",
    "- You can find $\\epsilon_0$ in the scipy constants. \n",
    "- Numpy's tensordot might simplify the treatment of multiple positions at once.\n",
    "- Increase the number of contours in plt.contour/contourf to get a nicer distribution of isopotential lines"
   ]
  },
  {
   "cell_type": "code",
   "execution_count": 188,
   "metadata": {
    "scrolled": false
   },
   "outputs": [
    {
     "name": "stdout",
     "output_type": "stream",
     "text": [
      "(2, 20, 20)\n",
      "(20, 20)\n"
     ]
    },
    {
     "ename": "ValueError",
     "evalue": "shape-mismatch for sum",
     "output_type": "error",
     "traceback": [
      "\u001b[1;31m---------------------------------------------------------------------------\u001b[0m",
      "\u001b[1;31mValueError\u001b[0m                                Traceback (most recent call last)",
      "\u001b[1;32m<ipython-input-188-3b497f42ed5d>\u001b[0m in \u001b[0;36m<module>\u001b[1;34m\u001b[0m\n\u001b[0;32m     32\u001b[0m \u001b[1;33m\u001b[0m\u001b[0m\n\u001b[0;32m     33\u001b[0m \u001b[1;33m\u001b[0m\u001b[0m\n\u001b[1;32m---> 34\u001b[1;33m \u001b[0mEarr\u001b[0m\u001b[1;33m=\u001b[0m\u001b[0mE_dip\u001b[0m\u001b[1;33m(\u001b[0m\u001b[0mp\u001b[0m\u001b[1;33m,\u001b[0m\u001b[0mr\u001b[0m\u001b[1;33m)\u001b[0m\u001b[1;33m\u001b[0m\u001b[1;33m\u001b[0m\u001b[0m\n\u001b[0m\u001b[0;32m     35\u001b[0m \u001b[1;31m#Calculate the field and potential on the whole meshgrid\u001b[0m\u001b[1;33m\u001b[0m\u001b[1;33m\u001b[0m\u001b[1;33m\u001b[0m\u001b[0m\n\u001b[0;32m     36\u001b[0m \u001b[1;31m#phiarr=np.empty([20,20],dtype=float)\u001b[0m\u001b[1;33m\u001b[0m\u001b[1;33m\u001b[0m\u001b[1;33m\u001b[0m\u001b[0m\n",
      "\u001b[1;32m<ipython-input-188-3b497f42ed5d>\u001b[0m in \u001b[0;36mE_dip\u001b[1;34m(p, r, r0)\u001b[0m\n\u001b[0;32m     16\u001b[0m     \u001b[0mprint\u001b[0m\u001b[1;33m(\u001b[0m\u001b[0mb1\u001b[0m\u001b[1;33m.\u001b[0m\u001b[0mshape\u001b[0m\u001b[1;33m)\u001b[0m\u001b[1;33m\u001b[0m\u001b[1;33m\u001b[0m\u001b[0m\n\u001b[0;32m     17\u001b[0m     \u001b[0mb\u001b[0m\u001b[1;33m=\u001b[0m\u001b[1;33m(\u001b[0m\u001b[0mb1\u001b[0m\u001b[1;33m/\u001b[0m\u001b[1;33m(\u001b[0m\u001b[0mnp\u001b[0m\u001b[1;33m.\u001b[0m\u001b[0mlinalg\u001b[0m\u001b[1;33m.\u001b[0m\u001b[0mnorm\u001b[0m\u001b[1;33m(\u001b[0m\u001b[0mx\u001b[0m\u001b[1;33m)\u001b[0m\u001b[1;33m**\u001b[0m\u001b[1;36m5\u001b[0m\u001b[1;33m)\u001b[0m\u001b[1;33m)\u001b[0m\u001b[1;33m\u001b[0m\u001b[1;33m\u001b[0m\u001b[0m\n\u001b[1;32m---> 18\u001b[1;33m     \u001b[0mc1\u001b[0m\u001b[1;33m=\u001b[0m\u001b[0mnp\u001b[0m\u001b[1;33m.\u001b[0m\u001b[0mtensordot\u001b[0m\u001b[1;33m(\u001b[0m\u001b[0mb\u001b[0m\u001b[1;33m,\u001b[0m\u001b[0mx\u001b[0m\u001b[1;33m,\u001b[0m\u001b[0maxes\u001b[0m\u001b[1;33m=\u001b[0m\u001b[1;36m2\u001b[0m\u001b[1;33m)\u001b[0m\u001b[1;33m\u001b[0m\u001b[1;33m\u001b[0m\u001b[0m\n\u001b[0m\u001b[0;32m     19\u001b[0m     \u001b[0mprint\u001b[0m\u001b[1;33m(\u001b[0m\u001b[0mc1\u001b[0m\u001b[1;33m.\u001b[0m\u001b[0mshape\u001b[0m\u001b[1;33m)\u001b[0m\u001b[1;33m\u001b[0m\u001b[1;33m\u001b[0m\u001b[0m\n\u001b[0;32m     20\u001b[0m     \u001b[0mc\u001b[0m\u001b[1;33m=\u001b[0m\u001b[1;36m3\u001b[0m\u001b[1;33m*\u001b[0m\u001b[0mc1\u001b[0m\u001b[1;33m-\u001b[0m\u001b[1;33m(\u001b[0m\u001b[0mp\u001b[0m\u001b[1;33m/\u001b[0m\u001b[1;33m(\u001b[0m\u001b[0mnp\u001b[0m\u001b[1;33m.\u001b[0m\u001b[0mlinalg\u001b[0m\u001b[1;33m.\u001b[0m\u001b[0mnorm\u001b[0m\u001b[1;33m(\u001b[0m\u001b[0mx\u001b[0m\u001b[1;33m)\u001b[0m\u001b[1;33m**\u001b[0m\u001b[1;36m3\u001b[0m\u001b[1;33m)\u001b[0m\u001b[1;33m)\u001b[0m\u001b[1;33m\u001b[0m\u001b[1;33m\u001b[0m\u001b[0m\n",
      "\u001b[1;32m~\\Anaconda3\\lib\\site-packages\\numpy\\core\\numeric.py\u001b[0m in \u001b[0;36mtensordot\u001b[1;34m(a, b, axes)\u001b[0m\n\u001b[0;32m   1369\u001b[0m                 \u001b[0maxes_b\u001b[0m\u001b[1;33m[\u001b[0m\u001b[0mk\u001b[0m\u001b[1;33m]\u001b[0m \u001b[1;33m+=\u001b[0m \u001b[0mndb\u001b[0m\u001b[1;33m\u001b[0m\u001b[1;33m\u001b[0m\u001b[0m\n\u001b[0;32m   1370\u001b[0m     \u001b[1;32mif\u001b[0m \u001b[1;32mnot\u001b[0m \u001b[0mequal\u001b[0m\u001b[1;33m:\u001b[0m\u001b[1;33m\u001b[0m\u001b[1;33m\u001b[0m\u001b[0m\n\u001b[1;32m-> 1371\u001b[1;33m         \u001b[1;32mraise\u001b[0m \u001b[0mValueError\u001b[0m\u001b[1;33m(\u001b[0m\u001b[1;34m\"shape-mismatch for sum\"\u001b[0m\u001b[1;33m)\u001b[0m\u001b[1;33m\u001b[0m\u001b[1;33m\u001b[0m\u001b[0m\n\u001b[0m\u001b[0;32m   1372\u001b[0m \u001b[1;33m\u001b[0m\u001b[0m\n\u001b[0;32m   1373\u001b[0m     \u001b[1;31m# Move the axes to sum over to the end of \"a\"\u001b[0m\u001b[1;33m\u001b[0m\u001b[1;33m\u001b[0m\u001b[1;33m\u001b[0m\u001b[0m\n",
      "\u001b[1;31mValueError\u001b[0m: shape-mismatch for sum"
     ]
    },
    {
     "data": {
      "image/png": "[encoded data removed]",
      "text/plain": [
       "<Figure size 432x288 with 1 Axes>"
      ]
     },
     "metadata": {
      "needs_background": "light"
     },
     "output_type": "display_data"
    }
   ],
   "source": [
    "def phi_dip(p,r,r0=[0,0]):\n",
    "    X = r  #- r0\n",
    "    #if X[1]==0 and X[0]==0:\n",
    "    #    return 0.0\n",
    "    a = (1/(4*constants.pi*constants.epsilon_0))\n",
    "    b = np.tensordot(p,X,axes=1)\n",
    "    c = np.linalg.norm(X)**3\n",
    "    d = a * (b/c)\n",
    "    return d\n",
    "\n",
    "def E_dip(p,r,r0=[0,0]):\n",
    "    x=r#-r0\n",
    "    a = (1/(4*constants.pi*constants.epsilon_0))\n",
    "    print(x.shape)\n",
    "    b1=np.tensordot(x,p,axes=[0,0])\n",
    "    print(b1.shape)\n",
    "    b=(b1/(np.linalg.norm(x)**5))\n",
    "    c1=np.tensordot(b,x,axes=2)\n",
    "    print(c1.shape)\n",
    "    c=3*c1-(p/(np.linalg.norm(x)**3))\n",
    "    return a*c\n",
    "\n",
    "x=np.arange(-10,10,1)\n",
    "y=np.arange(-10,10,1)\n",
    "XX,YY=np.meshgrid(x,y)\n",
    "r=np.array([XX,YY])\n",
    "#print(r.shape)\n",
    "p=[0,1]\n",
    "phiarr=phi_dip(p,r)\n",
    "#print(phiarr.shape)\n",
    "plt.contourf(x,y,phiarr)\n",
    "\n",
    "\n",
    "#Earr=E_dip(p,r)\n",
    "\n",
    "#Calculate the field and potential on the whole meshgrid \n",
    "#phiarr=np.empty([20,20],dtype=float)\n",
    "#for i in x:\n",
    "#    for j in y:\n",
    "#        #print(phi_dip(p,np.array([i,j])))\n",
    "#        phiarr[i,j]=float(phi_dip(p,np.array([i,j])))\n",
    "#print(phiarr.shape)\n",
    "\n",
    "#xp,yp=np.meshgrid(phiarr[:,0],phiarr[:,1])\n",
    "\n",
    "\n",
    "#E=E_dip([XX,YY],p)"
   ]
  },
  {
   "cell_type": "code",
   "execution_count": 21,
   "metadata": {},
   "outputs": [
    {
     "name": "stdout",
     "output_type": "stream",
     "text": [
      "(2, 200, 200)\n"
     ]
    },
    {
     "data": {
      "text/plain": [
       "(200, 200)"
      ]
     },
     "execution_count": 21,
     "metadata": {},
     "output_type": "execute_result"
    }
   ],
   "source": [
    "#This is a hint how to use the tensordot funcion:\n",
    "r=np.array([XX,YY])\n",
    "print(r.shape)\n",
    "p=[0,1]\n",
    "np.tensordot(p,r,axes=1).shape"
   ]
  },
  {
   "cell_type": "code",
   "execution_count": 74,
   "metadata": {},
   "outputs": [
    {
     "name": "stdout",
     "output_type": "stream",
     "text": [
      "(10, 7)\n",
      "(10, 7)\n",
      "[[ 0.          0.47942554  0.84147098  0.99749499  0.90929743  0.59847214\n",
      "   0.14112001]\n",
      " [ 0.          0.41605468  0.73024466  0.86564528  0.78910575  0.51936561\n",
      "   0.12246665]\n",
      " [ 0.          0.24269492  0.42596966  0.50495217  0.46030478  0.30295872\n",
      "   0.07143781]\n",
      " [ 0.          0.00517593  0.00908462  0.01076907  0.00981688  0.00646118\n",
      "   0.00152355]\n",
      " [-0.         -0.23371137 -0.41020204 -0.48626095 -0.44326622 -0.29174446\n",
      "  -0.06879348]\n",
      " [-0.         -0.41081435 -0.72104702 -0.85474224 -0.77916674 -0.51282405\n",
      "  -0.12092415]\n",
      " [-0.         -0.47931378 -0.84127483 -0.99726246 -0.90908546 -0.59833263\n",
      "  -0.14108711]\n",
      " [-0.         -0.42110103 -0.73910184 -0.87614474 -0.79867686 -0.52566502\n",
      "  -0.12395205]\n",
      " [-0.         -0.25156532 -0.44153867 -0.52340796 -0.47712873 -0.31403174\n",
      "  -0.07404883]\n",
      " [-0.         -0.01552539 -0.02724962 -0.0323022  -0.02944607 -0.01938051\n",
      "  -0.00456993]]\n"
     ]
    },
    {
     "data": {
      "text/plain": [
       "<matplotlib.contour.QuadContourSet at 0x1ac50279198>"
      ]
     },
     "execution_count": 74,
     "metadata": {},
     "output_type": "execute_result"
    },
    {
     "data": {
      "image/png": "[encoded data removed]",
      "text/plain": [
       "<Figure size 432x288 with 1 Axes>"
      ]
     },
     "metadata": {
      "needs_background": "light"
     },
     "output_type": "display_data"
    }
   ],
   "source": [
    "x, y = np.meshgrid(np.arange(7), np.arange(10))\n",
    "z = np.sin(0.5 * x) * np.cos(0.52 * y)\n",
    "print(z.shape)\n",
    "print(x.shape)\n",
    "print(z)\n",
    "plt.contourf(x,y,z)"
   ]
  },
  {
   "cell_type": "code",
   "execution_count": null,
   "metadata": {},
   "outputs": [],
   "source": []
  }
 ],
 "metadata": {
  "anaconda-cloud": {},
  "kernelspec": {
   "display_name": "Python 3",
   "language": "python",
   "name": "python3"
  },
  "language_info": {
   "codemirror_mode": {
    "name": "ipython",
    "version": 3
   },
   "file_extension": ".py",
   "mimetype": "text/x-python",
   "name": "python",
   "nbconvert_exporter": "python",
   "pygments_lexer": "ipython3",
   "version": "3.7.3"
  }
 },
 "nbformat": 4,
 "nbformat_minor": 1
}
